{
 "cells": [
  {
   "cell_type": "code",
   "execution_count": null,
   "metadata": {},
   "outputs": [],
   "source": [
    "!pip install custom-diffusion"
   ]
  },
  {
   "cell_type": "code",
   "execution_count": null,
   "metadata": {},
   "outputs": [],
   "source": [
    "from custom_diffusion.utils.data_utils import image_grid, load_images_from_folder\n",
    "from custom_diffusion.pipelines.stable_diffusion_img2img import StableDiffusionImg2ImgGenerator\n",
    "from custom_diffusion.utils.video_utils import convert_images_to_video, video_pipeline"
   ]
  },
  {
   "cell_type": "code",
   "execution_count": null,
   "metadata": {},
   "outputs": [],
   "source": [
    "frames_path = video_pipeline(\n",
    "    video_path=\"../../data/videos/anime_v0.mp4\",\n",
    "    output_path=\"../../output\",\n",
    "    start_time=0,\n",
    "    end_time=2,\n",
    "    frame_rate=1,\n",
    ")"
   ]
  },
  {
   "cell_type": "code",
   "execution_count": null,
   "metadata": {},
   "outputs": [],
   "source": [
    "images_list = load_images_from_folder(frames_path, pil_image=False)\n",
    "image_grid(images_list, cols=5, rows=1) # pil_image=True"
   ]
  },
  {
   "cell_type": "code",
   "execution_count": null,
   "metadata": {},
   "outputs": [],
   "source": [
    "prompt = \"a anime boy\"\n",
    "negative_prompt = \"bad\"\n",
    "\n",
    "list_prompt = [prompt] * len(images_list)\n",
    "list_negative_prompt = [negative_prompt] * len(images_list)"
   ]
  },
  {
   "cell_type": "code",
   "execution_count": null,
   "metadata": {},
   "outputs": [],
   "source": [
    "generator = StableDiffusionImg2ImgGenerator()\n",
    "\n",
    "generated_image_list = generator.generate_image(\n",
    "    stable_model_path=\"dreamlike-art/dreamlike-anime-1.0\",\n",
    "    scheduler_name=\"EulerAncestralDiscrete\",\n",
    "    images_path_list=images_list,\n",
    "    prompt=list_prompt,\n",
    "    strength=0.3,\n",
    "    negative_prompt=list_negative_prompt,\n",
    "    num_images_per_prompt=1,\n",
    "    num_inference_steps=50,\n",
    "    guidance_scale=7.0,\n",
    "    generator_seed=0,\n",
    "    resize_type=\"resize\",\n",
    ")"
   ]
  },
  {
   "cell_type": "code",
   "execution_count": null,
   "metadata": {},
   "outputs": [],
   "source": [
    "frame2video = convert_images_to_video(\n",
    "    image_list=generated_image_list,\n",
    "    output_file=\"../../generated_video_v2.mp4\",\n",
    "    frame_rate=10,\n",
    ")"
   ]
  },
  {
   "cell_type": "code",
   "execution_count": null,
   "metadata": {},
   "outputs": [],
   "source": []
  }
 ],
 "metadata": {
  "kernelspec": {
   "display_name": "diffuser_gpu",
   "language": "python",
   "name": "python3"
  },
  "language_info": {
   "codemirror_mode": {
    "name": "ipython",
    "version": 3
   },
   "file_extension": ".py",
   "mimetype": "text/x-python",
   "name": "python",
   "nbconvert_exporter": "python",
   "pygments_lexer": "ipython3",
   "version": "3.10.11"
  },
  "orig_nbformat": 4
 },
 "nbformat": 4,
 "nbformat_minor": 2
}
