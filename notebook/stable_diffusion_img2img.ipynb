{
 "cells": [
  {
   "cell_type": "code",
   "execution_count": null,
   "metadata": {},
   "outputs": [],
   "source": [
    "!pip install custom-diffusion"
   ]
  },
  {
   "cell_type": "code",
   "execution_count": null,
   "metadata": {},
   "outputs": [],
   "source": [
    "from custom_diffusion.utils.data_utils import image_grid, load_images_from_folder\n",
    "from custom_diffusion.pipelines.stable_diffusion_img2img import StableDiffusionImg2ImgGenerator\n",
    "from custom_diffusion.utils.video_utils import convert_images_to_video, video_pipeline"
   ]
  },
  {
   "cell_type": "code",
   "execution_count": null,
   "metadata": {},
   "outputs": [],
   "source": [
    "frames_path = video_pipeline(\n",
    "    video_path=\"test.mp4\",\n",
    "    output_path=\"output.mp4\",\n",
    "    start_time=0,\n",
    "    end_time=5,\n",
    "    frame_rate=1,\n",
    ")"
   ]
  },
  {
   "cell_type": "code",
   "execution_count": null,
   "metadata": {},
   "outputs": [],
   "source": [
    "images_list = load_images_from_folder(frames_path, pil_image=False)"
   ]
  },
  {
   "cell_type": "code",
   "execution_count": null,
   "metadata": {},
   "outputs": [],
   "source": [
    "prompt = \"a anime boy\"\n",
    "negative_prompt = \"bad\"\n",
    "\n",
    "list_prompt = [prompt] * len(images_list)\n",
    "list_negative_prompt = [negative_prompt] * len(images_list)"
   ]
  },
  {
   "cell_type": "code",
   "execution_count": null,
   "metadata": {},
   "outputs": [],
   "source": [
    "generator = StableDiffusionImg2ImgGenerator()\n",
    "\n",
    "generated_image_list = generator.generate_image(\n",
    "    stable_model_path=\"andite/anything-v4.0\",\n",
    "    scheduler_name=\"EulerAncestralDiscrete\",\n",
    "    images_path_list=images_list,\n",
    "    prompt=list_prompt,\n",
    "    negative_prompt=list_negative_prompt,\n",
    "    height=512,\n",
    "    width=512,\n",
    "    num_images_per_prompt=1,\n",
    "    num_inference_steps=30,\n",
    "    guidance_scale=7.0,\n",
    "    generator_seed=0,\n",
    "    resize_type=\"resize\",\n",
    "    crop_size=512,\n",
    ")"
   ]
  },
  {
   "cell_type": "code",
   "execution_count": null,
   "metadata": {},
   "outputs": [],
   "source": [
    "frame2video = convert_images_to_video(\n",
    "    image_list=generated_image_list,\n",
    "    output_file=\"output.mp4\",\n",
    "    frame_rate=5,\n",
    ")"
   ]
  }
 ],
 "metadata": {
  "language_info": {
   "name": "python"
  },
  "orig_nbformat": 4
 },
 "nbformat": 4,
 "nbformat_minor": 2
}
