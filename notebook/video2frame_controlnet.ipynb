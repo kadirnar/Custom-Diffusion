{
 "cells": [
  {
   "cell_type": "code",
   "execution_count": 1,
   "metadata": {},
   "outputs": [
    {
     "name": "stderr",
     "output_type": "stream",
     "text": [
      "c:\\Users\\kadir\\miniconda3\\envs\\diffuser_gpu\\lib\\site-packages\\tqdm\\auto.py:21: TqdmWarning: IProgress not found. Please update jupyter and ipywidgets. See https://ipywidgets.readthedocs.io/en/stable/user_install.html\n",
      "  from .autonotebook import tqdm as notebook_tqdm\n",
      "WARNING[XFORMERS]: xFormers can't load C++/CUDA extensions. xFormers was built for:\n",
      "    PyTorch 2.0.1+cu118 with CUDA 1108 (you have 2.0.1+cpu)\n",
      "    Python  3.10.11 (you have 3.10.11)\n",
      "  Please reinstall xformers (see https://github.com/facebookresearch/xformers#installing-xformers)\n",
      "  Memory-efficient attention, SwiGLU, sparse and more won't be available.\n",
      "  Set XFORMERS_MORE_DETAILS=1 for more details\n",
      "c:\\Users\\kadir\\miniconda3\\envs\\diffuser_gpu\\lib\\site-packages\\controlnet_aux\\mediapipe_face\\mediapipe_face_common.py:7: UserWarning: The module 'mediapipe' is not installed. The package will have limited functionality. Please install it using the command: pip install 'mediapipe'\n",
      "  warnings.warn(\n"
     ]
    }
   ],
   "source": [
    "from custom_diffusion import StableDiffusionControlNetGenerator\n",
    "from custom_diffusion.demo import video_pipeline\n",
    "from custom_diffusion.utils.data_utils import image_grid"
   ]
  },
  {
   "cell_type": "code",
   "execution_count": 2,
   "metadata": {},
   "outputs": [
    {
     "name": "stdout",
     "output_type": "stream",
     "text": [
      "Moviepy - Building video test.mp4.\n",
      "MoviePy - Writing audio in testTEMP_MPY_wvf_snd.mp3\n"
     ]
    },
    {
     "name": "stderr",
     "output_type": "stream",
     "text": [
      "                                                                 \r"
     ]
    },
    {
     "name": "stdout",
     "output_type": "stream",
     "text": [
      "MoviePy - Done.\n",
      "Moviepy - Writing video test.mp4\n",
      "\n"
     ]
    },
    {
     "name": "stderr",
     "output_type": "stream",
     "text": [
      "                                                            \r"
     ]
    },
    {
     "name": "stdout",
     "output_type": "stream",
     "text": [
      "Moviepy - Done !\n",
      "Moviepy - video ready test.mp4\n",
      "Video trimmed successfully!\n",
      "Video frames saved successfully!\n"
     ]
    }
   ],
   "source": [
    "frames_path = video_pipeline(\n",
    "    video_url=\"https://huggingface.co/spaces/kadirnar/torchyolo/resolve/main/testv2.mp4\",\n",
    "    youtube=False,\n",
    "    output_path=\"output\",\n",
    "    filename=\"test.mp4\",\n",
    "    quality=\"720p\",\n",
    "    start_time=0,\n",
    "    end_time=2,\n",
    "    frame_rate=1,\n",
    ")"
   ]
  },
  {
   "cell_type": "code",
   "execution_count": null,
   "metadata": {},
   "outputs": [],
   "source": [
    "img_list = load_images_from_folder(frames_path)\n",
    "image_grid(img_list, rows=5, cols=5)"
   ]
  },
  {
   "cell_type": "code",
   "execution_count": null,
   "metadata": {},
   "outputs": [],
   "source": [
    "images_list = load_images_from_folder(frames_path)\n",
    "prompt = \"a girl\"\n",
    "negative_prompt = \"bad\"\n",
    "\n",
    "list_prompt = [prompt] * len(images_list)\n",
    "list_negative_prompt = [negative_prompt] * len(images_list)"
   ]
  },
  {
   "cell_type": "code",
   "execution_count": null,
   "metadata": {},
   "outputs": [],
   "source": [
    "generator = StableDiffusionControlNetGenerator()\n",
    "\n",
    "generated_image_list = generator.generate_image(\n",
    "    stable_model_path=\"andite/anything-v4.0\",\n",
    "    controlnet_model_path=\"lllyasviel/control_v11p_sd15_canny\",\n",
    "    scheduler_name=\"EulerAncestralDiscrete\",\n",
    "    images_list=images_list,\n",
    "    prompt=list_prompt,\n",
    "    negative_prompt=list_negative_prompt,\n",
    "    height=512,\n",
    "    width=512,\n",
    "    guess_mode=False,\n",
    "    num_images_per_prompt=1,\n",
    "    num_inference_steps=30,\n",
    "    guidance_scale=7.0,\n",
    "    controlnet_conditioning_scale=1.0,\n",
    "    generator_seed=0,\n",
    "    preprocess_type=\"Canny\",\n",
    "    resize_type=\"center_crop_and_resize\",\n",
    "    crop_size=512,\n",
    ")"
   ]
  },
  {
   "cell_type": "code",
   "execution_count": null,
   "metadata": {},
   "outputs": [],
   "source": [
    "frame2video = frames_to_video(\n",
    "    folder_path=generated_image_list,\n",
    "    output_folder=\"output\",\n",
    "    output_video_name=\"frame2video.mp4\",\n",
    "    duration=5,  # end_time-start_time\n",
    ")"
   ]
  }
 ],
 "metadata": {
  "kernelspec": {
   "display_name": "diffuser_gpu",
   "language": "python",
   "name": "python3"
  },
  "language_info": {
   "codemirror_mode": {
    "name": "ipython",
    "version": 3
   },
   "file_extension": ".py",
   "mimetype": "text/x-python",
   "name": "python",
   "nbconvert_exporter": "python",
   "pygments_lexer": "ipython3",
   "version": "3.10.11"
  },
  "orig_nbformat": 4
 },
 "nbformat": 4,
 "nbformat_minor": 2
}
