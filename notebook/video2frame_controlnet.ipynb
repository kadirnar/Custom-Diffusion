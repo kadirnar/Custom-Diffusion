{
 "cells": [
  {
   "cell_type": "code",
   "execution_count": 2,
   "metadata": {},
   "outputs": [
    {
     "name": "stdout",
     "output_type": "stream",
     "text": [
      "Video downloaded successfully!\n"
     ]
    }
   ],
   "source": [
    "from custom_diffusion.utils.downloads import download_from_url, download_from_youtube_url\n",
    "\n",
    "## Youtube Video Download\n",
    "\n",
    "youtube_video_url = \"https://www.youtube.com/watch?v=EnxaifYPNNs\"\n",
    "video_output_path = download_from_youtube_url(\n",
    "    youtube_video_url=youtube_video_url, output_path=\"output\", filename=\"test.mp4\", quality=\"720p\"\n",
    ")\n",
    "\n",
    "## Url Download(Optional)\n",
    "\n",
    "video_url = \"https://huggingface.co/spaces/kadirnar/torchyolo/resolve/main/testv2.mp4\"\n",
    "download_from_url(from_url=video_url, to_path=\"output.mp4\")"
   ]
  },
  {
   "cell_type": "code",
   "execution_count": 3,
   "metadata": {},
   "outputs": [
    {
     "name": "stdout",
     "output_type": "stream",
     "text": [
      "Moviepy - Building video output/output.mp4.\n",
      "MoviePy - Writing audio in outputTEMP_MPY_wvf_snd.mp3\n"
     ]
    },
    {
     "name": "stderr",
     "output_type": "stream",
     "text": [
      "                                                                  \r"
     ]
    },
    {
     "name": "stdout",
     "output_type": "stream",
     "text": [
      "MoviePy - Done.\n",
      "Moviepy - Writing video output/output.mp4\n",
      "\n"
     ]
    },
    {
     "name": "stderr",
     "output_type": "stream",
     "text": [
      "                                                              \r"
     ]
    },
    {
     "name": "stdout",
     "output_type": "stream",
     "text": [
      "Moviepy - Done !\n",
      "Moviepy - video ready output/output.mp4\n",
      "Video trimmed successfully!\n"
     ]
    }
   ],
   "source": [
    "# Video Edit\n",
    "\n",
    "from custom_diffusion.utils.video_utils import trim_video, video_to_frames, frames_to_video\n",
    "\n",
    "edit_video = trim_video(video_path=video_output_path, output_name=\"output/output.mp4\", start_time=0, end_time=5)"
   ]
  },
  {
   "cell_type": "code",
   "execution_count": 4,
   "metadata": {},
   "outputs": [
    {
     "name": "stdout",
     "output_type": "stream",
     "text": [
      "Video frames saved successfully!\n"
     ]
    }
   ],
   "source": [
    "video2frame = video_to_frames(video_path=edit_video, output_path=\"output_frame\", frame_rate=1)"
   ]
  },
  {
   "cell_type": "code",
   "execution_count": 14,
   "metadata": {},
   "outputs": [],
   "source": [
    "from custom_diffusion.utils.data_utils import load_images_from_folder\n",
    "\n",
    "images_list = load_images_from_folder(video2frame)\n",
    "prompt = \"a girl\"\n",
    "negative_prompt = \"bad\"\n",
    "\n",
    "list_prompt = [prompt] * len(images_list)\n",
    "list_negative_prompt = [negative_prompt] * len(images_list)"
   ]
  },
  {
   "cell_type": "code",
   "execution_count": null,
   "metadata": {},
   "outputs": [],
   "source": [
    "from custom_diffusion.pipelines.controlnet_pipeline import StableDiffusionControlNetGenerator\n",
    "\n",
    "\n",
    "generator = StableDiffusionControlNetGenerator()\n",
    "\n",
    "generated_image_list = generator.generate_image(\n",
    "    stable_model_path=\"runwayml/stable-diffusion-v1-5\",\n",
    "    controlnet_model_path=\"lllyasviel/control_v11p_sd15_canny\",\n",
    "    scheduler_name=\"DDIM\",\n",
    "    image_path=images_list,\n",
    "    prompt=list_prompt,\n",
    "    negative_prompt=list_negative_prompt,\n",
    "    height=512,\n",
    "    width=512,\n",
    "    guess_mode=False,\n",
    "    num_images_per_prompt=1,\n",
    "    num_inference_steps=30,\n",
    "    guidance_scale=7.0,\n",
    "    controlnet_conditioning_scale=1.0,\n",
    "    generator_seed=0,\n",
    "    preprocess_type=\"Canny\",\n",
    "    resize_type=\"center_crop_and_resize\",\n",
    "    crop_size=512,\n",
    ")"
   ]
  },
  {
   "cell_type": "code",
   "execution_count": 13,
   "metadata": {},
   "outputs": [
    {
     "name": "stdout",
     "output_type": "stream",
     "text": [
      "Video created successfully!\n"
     ]
    }
   ],
   "source": [
    "frame2video = frames_to_video(\n",
    "    folder_path=generated_image_list,\n",
    "    output_folder=\"output\",\n",
    "    output_video_name=\"frame2video.mp4\",\n",
    "    duration=5,  # end_time-start_time\n",
    ")"
   ]
  }
 ],
 "metadata": {
  "kernelspec": {
   "display_name": "diffuser_gpu",
   "language": "python",
   "name": "python3"
  },
  "language_info": {
   "codemirror_mode": {
    "name": "ipython",
    "version": 3
   },
   "file_extension": ".py",
   "mimetype": "text/x-python",
   "name": "python",
   "nbconvert_exporter": "python",
   "pygments_lexer": "ipython3",
   "version": "3.10.11"
  },
  "orig_nbformat": 4
 },
 "nbformat": 4,
 "nbformat_minor": 2
}
