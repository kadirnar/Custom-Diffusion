{
 "cells": [
  {
   "cell_type": "code",
   "execution_count": null,
   "metadata": {},
   "outputs": [],
   "source": [
    "!pip install custom-diffusion"
   ]
  },
  {
   "cell_type": "code",
   "execution_count": null,
   "metadata": {},
   "outputs": [],
   "source": [
    "from custom_diffusion.utils.data_utils import image_grid, load_images_from_folder\n",
    "from custom_diffusion import StableDiffusionControlNetImg2ImgGenerator\n",
    "from custom_diffusion.utils.video_utils import frames_to_video\n",
    "from custom_diffusion.demo import video_pipeline"
   ]
  },
  {
   "cell_type": "code",
   "execution_count": null,
   "metadata": {},
   "outputs": [],
   "source": [
    "frames_path = video_pipeline(\n",
    "    video_path=\"test.mp4\",\n",
    "    output_path=\"output\",\n",
    "    filename=\"output\",\n",
    "    start_time=0,\n",
    "    end_time=5,\n",
    "    frame_rate=1,\n",
    ")"
   ]
  },
  {
   "cell_type": "code",
   "execution_count": null,
   "metadata": {},
   "outputs": [],
   "source": [
    "images_list = load_images_from_folder(frames_path)\n",
    "image_grid(images_list, rows=5, cols=5)"
   ]
  },
  {
   "cell_type": "code",
   "execution_count": null,
   "metadata": {},
   "outputs": [],
   "source": [
    "prompt = \"a anime boy\"\n",
    "negative_prompt = \"bad\"\n",
    "\n",
    "list_prompt = [prompt] * len(images_list)\n",
    "list_negative_prompt = [negative_prompt] * len(images_list)"
   ]
  },
  {
   "cell_type": "code",
   "execution_count": null,
   "metadata": {},
   "outputs": [],
   "source": [
    "generator = StableDiffusionControlNetImg2ImgGenerator()\n",
    "\n",
    "generated_image_list = generator.generate_image(\n",
    "    stable_model_path=\"andite/anything-v4.0\",\n",
    "    controlnet_model_path=\"lllyasviel/control_v11p_sd15_canny\",\n",
    "    scheduler_name=\"EulerAncestralDiscrete\",\n",
    "    images_list=images_list,\n",
    "    prompt=list_prompt,\n",
    "    negative_prompt=list_negative_prompt,\n",
    "    height=512,\n",
    "    width=512,\n",
    "    guess_mode=False,\n",
    "    num_images_per_prompt=1,\n",
    "    num_inference_steps=30,\n",
    "    guidance_scale=7.0,\n",
    "    strength=1.0,\n",
    "    controlnet_conditioning_scale=1.0,\n",
    "    generator_seed=0,\n",
    "    preprocess_type=\"Canny\",\n",
    "    resize_type=\"center_crop_and_resize\",\n",
    "    crop_size=512,\n",
    ")"
   ]
  },
  {
   "cell_type": "code",
   "execution_count": null,
   "metadata": {},
   "outputs": [],
   "source": [
    "frame2video = frames_to_video(\n",
    "    folder_path=generated_image_list,\n",
    "    output_folder=\"output\",\n",
    "    output_video_name=\"frame2video.mp4\",\n",
    "    duration=5,\n",
    ")"
   ]
  }
 ],
 "metadata": {
  "kernelspec": {
   "display_name": "diffuser_gpu",
   "language": "python",
   "name": "python3"
  },
  "language_info": {
   "codemirror_mode": {
    "name": "ipython",
    "version": 3
   },
   "file_extension": ".py",
   "mimetype": "text/x-python",
   "name": "python",
   "nbconvert_exporter": "python",
   "pygments_lexer": "ipython3",
   "version": "3.10.11"
  },
  "orig_nbformat": 4
 },
 "nbformat": 4,
 "nbformat_minor": 2
}
